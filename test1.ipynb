{
 "cells": [
  {
   "cell_type": "code",
   "execution_count": 3,
   "metadata": {},
   "outputs": [
    {
     "name": "stdout",
     "output_type": "stream",
     "text": [
      "Hello World\n"
     ]
    }
   ],
   "source": [
    "print(\"Hello World\")"
   ]
  },
  {
   "cell_type": "code",
   "execution_count": 3,
   "metadata": {},
   "outputs": [
    {
     "name": "stdout",
     "output_type": "stream",
     "text": [
      "140703192122280\n"
     ]
    }
   ],
   "source": [
    "number = 1\n",
    "address = id(number)\n",
    "print(address)"
   ]
  },
  {
   "cell_type": "code",
   "execution_count": 2,
   "metadata": {},
   "outputs": [
    {
     "name": "stdout",
     "output_type": "stream",
     "text": [
      "True\n",
      "True\n"
     ]
    }
   ],
   "source": [
    "from datetime import datetime\n",
    "\n",
    "def is_valid_date(date_str):\n",
    "    try:\n",
    "        datetime.strptime(date_str, '%Y-%m-%d')\n",
    "        return True\n",
    "    except ValueError:\n",
    "        return False\n",
    "    \n",
    "print(is_valid_date('2023-01-01'))  # True\n",
    "print(is_valid_date('2024-02-29'))  # False"
   ]
  },
  {
   "cell_type": "code",
   "execution_count": 3,
   "metadata": {},
   "outputs": [
    {
     "name": "stdout",
     "output_type": "stream",
     "text": [
      "     A    B\n",
      "1  2.0  2.0\n",
      "3  4.0  4.0\n",
      "     A    B\n",
      "1  2.0  2.0\n",
      "3  4.0  4.0\n"
     ]
    }
   ],
   "source": [
    "import pandas as pd\n",
    "\n",
    "data = {'A': [1, 2, None, 4], 'B': [None, 2, 3, 4]}\n",
    "df = pd.DataFrame(data)\n",
    "\n",
    "# Drop rows with missing values\n",
    "df_cleaned = df.dropna()\n",
    "\n",
    "\n",
    "# Fill missing values with a default value\n",
    "df_filled = df_cleaned.fillna(0)\n",
    "\n",
    "print(df_cleaned)\n",
    "print(df_filled)"
   ]
  },
  {
   "cell_type": "code",
   "execution_count": 7,
   "metadata": {},
   "outputs": [
    {
     "name": "stdout",
     "output_type": "stream",
     "text": [
      "8\n"
     ]
    }
   ],
   "source": [
    "add = lambda x,y: x + y\n",
    "print (add(5,3))"
   ]
  },
  {
   "cell_type": "code",
   "execution_count": 8,
   "metadata": {},
   "outputs": [
    {
     "name": "stdout",
     "output_type": "stream",
     "text": [
      "   id     name  age\n",
      "0   2      Bob   24\n",
      "1   3  Charlie   30\n"
     ]
    }
   ],
   "source": [
    "import pandas as pd\n",
    "\n",
    "df1 = pd.DataFrame({'id': [1, 2, 3], 'name': ['Alice', 'Bob', 'Charlie']})\n",
    "df2 = pd.DataFrame({'id': [2, 3, 4], 'age': [24, 30, 22]})\n",
    "\n",
    "# Merge on 'id'\n",
    "merged_df = pd.merge(df1, df2, on='id', how='inner')\n",
    "print(merged_df)"
   ]
  },
  {
   "cell_type": "markdown",
   "metadata": {},
   "source": [
    "Guess the number game"
   ]
  },
  {
   "cell_type": "code",
   "execution_count": 4,
   "metadata": {},
   "outputs": [],
   "source": [
    "import tkinter as tk  # Import the Tkinter library to create GUI components\n",
    "import random  # Import the random library to generate random numbers\n",
    "\n",
    "# Function to handle the guessing logic\n",
    "def guess_number():\n",
    "    # Generate a random number between 1 and 10\n",
    "    number = random.randint(1, 10)\n",
    "    # Initialize attempts to 0\n",
    "    attempts = 0\n",
    "\n",
    "    # Define the function to check the user's guess\n",
    "    def check_guess():\n",
    "        nonlocal attempts, number  # Access the 'attempts' and 'number' variables from the outer function\n",
    "        try:\n",
    "            # Get the guess input from the user (convert it to an integer)\n",
    "            guess = int(guess_input.get())  \n",
    "            attempts += 1  # Increment the number of attempts after each guess\n",
    "            \n",
    "            # Check if the guess is too low, too high, or correct\n",
    "            if guess < number:\n",
    "                result_label.config(text=\"Too low! Try again.\")  # Update result_label with feedback\n",
    "            elif guess > number:\n",
    "                result_label.config(text=\"Too high! Try again.\")  # Update result_label with feedback\n",
    "            else:\n",
    "                # If the guess is correct, congratulate the user and show the number of attempts\n",
    "                result_label.config(text=f\"Congratulations! You've guessed the number in {attempts} attempts.\")\n",
    "        except ValueError:\n",
    "            # If the input is not a valid integer, show an error message\n",
    "            result_label.config(text=\"Please enter a valid number.\")\n",
    "\n",
    "    # Create the main window for the GUI\n",
    "    window = tk.Tk()\n",
    "    window.title(\"Guess the Number Game\")  # Set the window's title\n",
    "\n",
    "    # Create a label to display instructions for the user\n",
    "    prompt_label = tk.Label(window, text=\"Guess the number between 1 and 10\", font=('Arial', 14))\n",
    "\n",
    "    # Create an input field where the user can enter their guess\n",
    "    guess_input = tk.Entry(window, font=('Arial', 14), width=15)\n",
    "\n",
    "    # Create a button to submit the guess\n",
    "    guess_button = tk.Button(window, text=\"Submit Guess\", font=('Arial', 14), command=check_guess)\n",
    "\n",
    "    # Create a label to show the result of the guess (feedback)\n",
    "    result_label = tk.Label(window, text=\"\", font=('Arial', 14))\n",
    "\n",
    "    # Create a quit button to close the application\n",
    "    quit_button = tk.Button(window, text=\"Quit\", font=('Arial', 14), command=window.quit)\n",
    "\n",
    "    # Use grid layout to arrange the widgets in the window\n",
    "    prompt_label.grid(row=0, column=0, columnspan=2, pady=10)  # Instruction label spans 2 columns\n",
    "    guess_input.grid(row=1, column=0, pady=5)  # Input field in the second row\n",
    "    guess_button.grid(row=1, column=1, pady=5)  # Submit button in the second row, second column\n",
    "    result_label.grid(row=2, column=0, columnspan=2, pady=10)  # Result label spans 2 columns\n",
    "    quit_button.grid(row=3, column=0, columnspan=2, pady=10)  # Quit button in the third row\n",
    "\n",
    "    # Define a function to handle the closing of the window\n",
    "    def on_closing():\n",
    "        window.quit()  # Exit the Tkinter main event loop\n",
    "        window.destroy()  # Destroy the window and release resources\n",
    "\n",
    "    # Bind the close (X) button on the window to the on_closing function\n",
    "    window.protocol(\"WM_DELETE_WINDOW\", on_closing)\n",
    "\n",
    "    # Start the GUI event loop, which keeps the window open and responsive\n",
    "    window.mainloop()\n"
   ]
  },
  {
   "cell_type": "code",
   "execution_count": 5,
   "metadata": {},
   "outputs": [],
   "source": [
    "\n",
    "# Call the function to start the game\n",
    "guess_number()"
   ]
  }
 ],
 "metadata": {
  "kernelspec": {
   "display_name": "Python 3",
   "language": "python",
   "name": "python3"
  },
  "language_info": {
   "codemirror_mode": {
    "name": "ipython",
    "version": 3
   },
   "file_extension": ".py",
   "mimetype": "text/x-python",
   "name": "python",
   "nbconvert_exporter": "python",
   "pygments_lexer": "ipython3",
   "version": "3.13.1"
  }
 },
 "nbformat": 4,
 "nbformat_minor": 2
}
