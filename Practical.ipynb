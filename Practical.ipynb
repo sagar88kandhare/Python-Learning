{
 "cells": [
  {
   "cell_type": "code",
   "execution_count": 9,
   "metadata": {},
   "outputs": [],
   "source": [
    "import random\n",
    "\n",
    "def guess_number():\n",
    "    number = random.randint(1,20)\n",
    "    attempts = 0\n",
    "    guess = 0\n",
    "\n",
    "    print(\"Guess the number between 1 to 20:\")\n",
    "\n",
    "    while guess != number:\n",
    "        guess = int(input(\"Enter your guess:\"))\n",
    "\n",
    "        attempts +=1\n",
    "\n",
    "        if guess < number:\n",
    "            print(\"Too low!\")\n",
    "        elif guess > number:\n",
    "            print(\"Too High!\")\n",
    "        else:\n",
    "            print(f\"Congratulations! You've guessed the number in {attempts} attempts.\")"
   ]
  },
  {
   "cell_type": "code",
   "execution_count": 10,
   "metadata": {},
   "outputs": [
    {
     "name": "stdout",
     "output_type": "stream",
     "text": [
      "Guess the number between 1 to 20:\n",
      "Too low!\n",
      "Congratulations! You've guessed the number in 2 attempts.\n"
     ]
    }
   ],
   "source": [
    "guess_number() "
   ]
  }
 ],
 "metadata": {
  "kernelspec": {
   "display_name": "Python 3",
   "language": "python",
   "name": "python3"
  },
  "language_info": {
   "codemirror_mode": {
    "name": "ipython",
    "version": 3
   },
   "file_extension": ".py",
   "mimetype": "text/x-python",
   "name": "python",
   "nbconvert_exporter": "python",
   "pygments_lexer": "ipython3",
   "version": "3.13.1"
  }
 },
 "nbformat": 4,
 "nbformat_minor": 2
}
